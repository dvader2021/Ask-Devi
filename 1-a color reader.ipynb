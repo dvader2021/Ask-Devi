{
 "cells": [
  {
   "cell_type": "code",
   "execution_count": 4,
   "id": "212e51d3",
   "metadata": {},
   "outputs": [],
   "source": [
    "import webcolors\n"
   ]
  },
  {
   "cell_type": "code",
   "execution_count": 5,
   "id": "afc3c991",
   "metadata": {},
   "outputs": [
    {
     "name": "stdout",
     "output_type": "stream",
     "text": [
      "goldenrod\n"
     ]
    }
   ],
   "source": [
    "print(webcolors.hex_to_name('#daa520'))"
   ]
  },
  {
   "cell_type": "code",
   "execution_count": 7,
   "id": "0ace3bef",
   "metadata": {},
   "outputs": [
    {
     "name": "stdout",
     "output_type": "stream",
     "text": [
      "#ff0000\n"
     ]
    }
   ],
   "source": [
    "print(webcolors.name_to_hex('Red'))"
   ]
  },
  {
   "cell_type": "code",
   "execution_count": null,
   "id": "62121d8c",
   "metadata": {},
   "outputs": [],
   "source": []
  }
 ],
 "metadata": {
  "kernelspec": {
   "display_name": "Python 3.9.6 64-bit ('base': conda)",
   "language": "python",
   "name": "python396jvsc74a57bd095ec9ec1504d83f612128e0fb229072f90bbb4cb09d9d5d93b5dd26e0ca2cfd1"
  },
  "language_info": {
   "codemirror_mode": {
    "name": "ipython",
    "version": 3
   },
   "file_extension": ".py",
   "mimetype": "text/x-python",
   "name": "python",
   "nbconvert_exporter": "python",
   "pygments_lexer": "ipython3",
   "version": "3.9.6"
  }
 },
 "nbformat": 4,
 "nbformat_minor": 5
}
