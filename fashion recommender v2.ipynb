{
 "cells": [
  {
   "cell_type": "code",
   "execution_count": 1,
   "id": "a842c160",
   "metadata": {},
   "outputs": [
    {
     "name": "stderr",
     "output_type": "stream",
     "text": [
      "[nltk_data] Downloading package wordnet to\n",
      "[nltk_data]     /Users/sangames/nltk_data...\n",
      "[nltk_data]   Package wordnet is already up-to-date!\n",
      "[nltk_data] Downloading package punkt to /Users/sangames/nltk_data...\n",
      "[nltk_data]   Package punkt is already up-to-date!\n",
      "[nltk_data] Downloading package stopwords to\n",
      "[nltk_data]     /Users/sangames/nltk_data...\n",
      "[nltk_data]   Package stopwords is already up-to-date!\n",
      "[nltk_data] Downloading package wordnet to\n",
      "[nltk_data]     /Users/sangames/nltk_data...\n",
      "[nltk_data]   Package wordnet is already up-to-date!\n"
     ]
    }
   ],
   "source": [
    "import fashion_recommender_algorithm_v2 as rec"
   ]
  },
  {
   "cell_type": "markdown",
   "id": "d3230535",
   "metadata": {},
   "source": [
    "# create model"
   ]
  },
  {
   "cell_type": "code",
   "execution_count": 2,
   "id": "3ab6ce45",
   "metadata": {},
   "outputs": [],
   "source": [
    "rec.model_maker()"
   ]
  },
  {
   "cell_type": "markdown",
   "id": "b075cc85",
   "metadata": {},
   "source": [
    "# run model"
   ]
  },
  {
   "cell_type": "code",
   "execution_count": 3,
   "id": "2e339226",
   "metadata": {},
   "outputs": [],
   "source": [
    "def goRecommend(color_choice, fabric_choice, pattern_choice, sleeve_choice, strap_choice):\n",
    "    results = rec.recommendationEngine(color_choice, fabric_choice, pattern_choice, sleeve_choice, strap_choice)\n",
    "    return results"
   ]
  },
  {
   "cell_type": "code",
   "execution_count": 4,
   "id": "7635968f",
   "metadata": {},
   "outputs": [],
   "source": [
    "color_choice = \"#ffffff\"\n",
    "fabric_choice = \"silk\"\n",
    "pattern_choice = \"plain\"\n",
    "sleeve_choice = \"no sleeve\"\n",
    "strap_choice = \"strapless\"\n",
    "results = goRecommend(color_choice, fabric_choice, pattern_choice, sleeve_choice, strap_choice)"
   ]
  },
  {
   "cell_type": "code",
   "execution_count": 5,
   "id": "0b1d9e89",
   "metadata": {},
   "outputs": [],
   "source": [
    "import fashion_recommender_color_functions_v2 as fc"
   ]
  },
  {
   "cell_type": "code",
   "execution_count": 6,
   "id": "f0c74777",
   "metadata": {},
   "outputs": [
    {
     "name": "stdout",
     "output_type": "stream",
     "text": [
      "black\n"
     ]
    }
   ],
   "source": [
    "color_name = fc.getColorName(color_choice)\n",
    "print(color_name)"
   ]
  },
  {
   "cell_type": "code",
   "execution_count": 7,
   "id": "b25aaa4a",
   "metadata": {},
   "outputs": [
    {
     "name": "stdout",
     "output_type": "stream",
     "text": [
      "color #ffffff\n",
      "fabric silk\n",
      "\n",
      "Recommendations\n",
      "Empty DataFrame\n",
      "Columns: [id, desc, img_url, color]\n",
      "Index: []\n"
     ]
    }
   ],
   "source": [
    "# your search\n",
    "print(\"color\",color_choice)\n",
    "print(\"fabric\",fabric_choice)\n",
    "print(\"\")\n",
    "# printing without index column\n",
    "print(\"Recommendations\")\n",
    "#print(results[['desc', 'score', 'color', 'url']].to_string(index=False))\n",
    "print(results[['id','desc',  'img_url','color']].to_string(index=False))"
   ]
  },
  {
   "cell_type": "markdown",
   "id": "e21cd535",
   "metadata": {},
   "source": [
    "Recommendations\n",
    " id                 title score color\n",
    "122 Ektara Brocade Fabric 0.463 black"
   ]
  },
  {
   "cell_type": "code",
   "execution_count": null,
   "id": "83c20965",
   "metadata": {},
   "outputs": [],
   "source": [
    "import fashion_recommender_color_functions_v2 as fc\n",
    "color_name = fc.getColorName(color_choice)\n",
    "search_term = color_name + \" \" + fabric_choice\n",
    "df1 = rec.getRecommendations(search_term, 2)\n",
    "df1['color'] = color_name\n",
    "df1"
   ]
  },
  {
   "cell_type": "code",
   "execution_count": null,
   "id": "3d846cd6",
   "metadata": {},
   "outputs": [],
   "source": [
    "comp = fc.complimentary(color_choice)\n",
    "color_name = fc.getColorName(fc.rgb2hex(fc.convert(comp)))\n",
    "search_term = color_name + \" \" + fabric_choice\n",
    "df2 = rec.getRecommendations(search_term, 10)\n",
    "df2['color'] = color_name\n",
    "df2"
   ]
  },
  {
   "cell_type": "code",
   "execution_count": null,
   "id": "16893902",
   "metadata": {},
   "outputs": [],
   "source": [
    "def ShowListofColors(fabric_choice, val):\n",
    "    color_name = fc.getColorName(fc.rgb2hex(fc.convert(i)))\n",
    "    search_term = color_name + \" \" + fabric_choice\n",
    "    df2 = rec.getRecommendations(search_term, 2)\n",
    "    df2['color'] = color_name\n",
    "    return df2\n",
    "\n",
    "comp4 = fc.splitComplimentary(color_choice)\n",
    "for i in comp4:\n",
    "    df=ShowListofColors(fabric_choice,i)\n",
    "    print(df)"
   ]
  },
  {
   "cell_type": "code",
   "execution_count": 8,
   "id": "a1c8c4e4",
   "metadata": {},
   "outputs": [],
   "source": [
    "color = {'#000000': 'black',\n",
    "    '#ffffff': 'white',\n",
    "    '#808080': 'dark gray',\n",
    "    '#b0b0b0': 'light gray',\n",
    "    '#ff0000': 'red',\n",
    "    '#800000': 'dark red',\n",
    "    '#00ff00': 'green',\n",
    "    '#008000': 'dark green',\n",
    "    '#0000ff': 'blue',\n",
    "    '#000080': 'dark blue',\n",
    "    '#ffff00': 'yellow',\n",
    "    '#808000': 'olive',\n",
    "    '#00ffff': 'cyan',\n",
    "    '#ff00ff': 'magenta',\n",
    "    '#800080': 'purple',\"#b0bf1a\":\"acid green\",'#0048ba': 'absolute zero', '#b0bf1a': 'acid green', '#7cb9e8': 'aero', '#c9ffe5': 'aer o blue', '#b284be': 'african violet', '#72a0c1': 'air superiority blue', '#edeae0': 'alabaster', '#f0f8ff': 'alice blue', '#c46210': 'alloy orange', '#efdecd': 'almond', '#e52b50': 'amaranth', '#9f2b68': 'amaranth (m&p)', '#f19cbb': 'amaranth pink', '#ab274f': 'amaranth purple', '#d3212d': 'amaranth red', '#3b7a57': 'amazon', '#ffbf00': 'amber', '#ff7e00': 'amber (sae/ece)', '#9966cc': 'amethyst', '#a4c639': 'android green', '#cd9575': 'antique brass', '#665d1e': 'antique bronze', '#915c83': 'antique fuchsia', '#841b2d': 'antique ruby', '#faebd7': 'antique white', '#008000': 'green (web)', '#8db600': 'apple green', '#fbceb1': 'apricot', '#00ffff': 'spanish sky blue', '#7fffd4': 'aquamarine', '#d0ff14': 'arctic lime', '#4b5320': 'army green', '#8f9779': 'artichoke', '#e9d66b': 'hansa yellow', '#b2beb5': 'ash gray', '#87a96b': 'asparagus', '#ff9966': 'atomic tangerine', '#a52a2a': 'auburn', '#fdee00': 'aureolin', '#568203': 'avocado', '#007fff': 'azure', '#f0ffff': 'azure (x11/web color)', '#89cff0': 'baby blue', '#a1caf1': 'baby blue eyes', '#f4c2c2': 'tea rose', '#fefefa': 'baby powder', '#ff91af': 'schauss pink', '#fae7b5': 'banana mania', '#da1884': 'barbie pink', '#7c0a02': 'barn red', '#848482': 'old silver', '#bcd4e6': 'pale aqua', '#9f8170': 'beaver', '#f5f5dc': 'beige', '#2e5894': \"b'dazzled blue\", '#9c2542': 'big dip o’ruby', '#ffe4c4': 'bisque', '#3d2b1f': 'bistre', '#967117': 'sand dune', '#cae00d': 'bitter lemon', '#bfff00': 'lime (color wheel)', '#fe6f5e': 'bittersweet', '#bf4f51': 'bittersweet shimmer', '#000000': 'black', '#3d0c02': 'black bean', '#1b1811': 'black chocolate', '#3b2f2f': 'black coffee', '#54626f': 'black coral', '#3b3c36': 'black olive', '#bfafb2': 'black shadows', '#ffebcd': 'blanched almond', '#a57164': 'blast-off bronze', '#318ce7': 'bleu de france', '#ace5ee': 'blizzard blue', '#faf0be': 'blond', '#660000': 'blood red', '#0000ff': 'blue', '#1f75fe': 'blue (crayola)', '#0093af': 'blue (munsell)', '#0087bd': 'blue (ncs)', '#0018a8': 'blue (pantone)', '#333399': 'blue (pigment)', '#0247fe': 'blue (ryb)', '#a2a2d0': 'blue bell', '#6699cc': 'livid', '#0d98ba': 'blue-green', '#064e40': 'blue-green (color wheel)', '#5dadec': 'blue jeans', '#126180': 'blue sapphire', '#8a2be2': 'blue-violet', '#7366bd': 'blue-violet (crayola)', '#4d1a7f': 'blue-violet (color wheel)', '#5072a7': 'blue yonder', '#3c69e7': 'bluetiful', '#de5d83': 'blush', '#79443b': 'bole', '#e3dac9': 'bone', '#006a4e': 'bottle green', '#87413f': 'brandy', '#cb4154': 'brick red', '#66ff00': 'bright green', '#d891ef': 'bright lilac', '#c32148': 'maroon (crayola)', '#1974d2': 'navy blue (crayola)', '#ffaa1d': 'bright yellow (crayola)', '#ff55a3': 'brilliant rose', '#fb607f': 'brink pink', '#004225': 'british racing green', '#cd7f32': 'bronze', '#88540b': 'brown', '#af6e4d': 'brown sugar', '#1b4d3e': 'english green', '#7bb661': 'bud green', '#f0dc82': 'buff', '#800020': 'oxblood', '#deb887': 'burlywood', '#a17a74': 'burnished brown', '#cc5500': 'burnt orange', '#e97451': 'burnt sienna', '#8a3324': 'burnt umber', '#bd33a4': 'byzantine', '#702963': 'byzantium', '#536872': 'cadet', '#5f9ea0': 'cadet blue', '#a9b2c3': 'cadet blue (crayola)', '#91a3b0': 'cadet grey', '#006b3c': 'cadmium green', '#ed872d': 'cadmium orange', '#e30022': 'cadmium red', '#fff600': 'cadmium yellow', '#a67b5b': 'tuscan tan', '#4b3621': 'café noir', '#a3c1ad': 'cambridge blue', '#c19a6b': 'wood brown', '#efbbcc': 'cameo pink', '#ffff99': 'canary', '#ffef00': 'yellow (process)', '#ff0800': 'candy apple red', '#e4717a': 'tango pink', '#00bfff': 'deep sky blue', '#592720': 'caput mortuum', '#c41e3a': 'cardinal', '#00cc99': 'caribbean green', '#960018': 'carmine', '#d70040': 'carmine (m&p)', '#ffa6c9': 'carnation pink', '#b31b1b': 'carnelian', '#56a0d3': 'carolina blue', '#ed9121': 'carrot orange', '#00563f': 'castleton green', '#703642': 'catawba', '#c95a49': 'cedar chest', '#ace1af': 'celadon', '#007ba7': 'cerulean', '#2f847c': 'celadon green', '#b2ffff': 'italian sky blue', '#246bce': 'celtic blue', '#de3163': 'cerise', '#2a52be': 'cerulean blue', '#6d9bc3': 'cerulean frost', '#1dacd6': 'cerulean (crayola)', '#007aa5': 'cg blue', '#e03c31': 'cg red', '#f7e7ce': 'champagne', '#f1ddcf': 'champagne pink', '#36454f': 'charcoal', '#232b2b': 'charleston green', '#e68fac': 'charm pink', '#dfff00': 'chartreuse (traditional)', '#7fff00': 'chartreuse (web)', '#ffb7c5': 'cherry blossom pink', '#954535': 'chestnut', '#de6fa1': 'thulian pink', '#a8516e': 'china rose', '#aa381e': 'chinese red', '#856088': 'chinese violet', '#ffb200': 'chinese yellow', '#7b3f00': 'chocolate (traditional)', '#d2691e': 'cocoa brown', '#ffa700': 'chrome yellow', '#98817b': 'cinereous', '#e34234': 'vermilion', '#cd607e': 'cinnamon satin', '#e4d00a': 'citrine', '#9fa91f': 'citron', '#7f1734': 'claret', '#0047ab': 'cobalt blue', '#6f4e37': 'tuscan brown', '#b9d9eb': 'columbia blue', '#f88379': 'tea rose', '#8c92ac': 'cool grey', '#b87333': 'copper', '#da8a67': 'copper (crayola)', '#ad6f69': 'copper penny', '#cb6d51': 'copper red', '#996666': 'copper rose', '#ff3800': 'coquelicot', '#ff7f50': 'coral', '#893f45': 'cordovan', '#fbec5d': 'maize', '#6495ed': 'cornflower blue', '#fff8dc': 'cornsilk', '#2e2d88': 'cosmic cobalt', '#fff8e7': 'cosmic latte', '#81613c': 'coyote brown', '#ffbcd9': 'cotton candy', '#fffdd0': 'cream', '#dc143c': 'crimson', '#9e1b32': 'crimson (ua)', '#f5f5f5': 'cultured', '#00b7eb': 'cyan (process)', '#58427c': 'cyber grape', '#ffd300': 'yellow (ncs)', '#f56fa1': 'cyclamen', '#666699': 'dark blue-gray', '#654321': 'dark brown', '#5d3954': 'dark byzantium', '#26428b': 'dark cornflower blue', '#008b8b': 'dark cyan', '#536878': \"payne's grey\", '#b8860b': 'dark goldenrod', '#013220': 'dark green', '#006400': 'dark green (x11)', '#1a2421': 'dark jungle green', '#bdb76b': 'dark khaki', '#483c32': 'taupe', '#534b4f': 'dark liver', '#543d37': 'dark liver (horses)', '#8b008b': 'dark magenta', '#4a5d23': 'dark moss green', '#556b2f': 'dark olive green', '#ff8c00': 'dark orange', '#9932cc': 'dark orchid', '#03c03c': 'dark pastel green', '#301934': 'dark purple', '#8b0000': 'dark red', '#e9967a': 'dark salmon', '#8fbc8f': 'dark sea green', '#3c1414': 'dark sienna', '#8cbed6': 'dark sky blue', '#483d8b': 'dark slate blue', '#2f4f4f': 'dark slate gray', '#177245': 'dark spring green', '#00ced1': 'dark turquoise', '#9400d3': 'dark violet', '#00703c': 'dartmouth green', '#555555': \"davy's grey\", '#da3287': 'deep cerise', '#fad6a5': 'tuscan', '#b94e48': 'deep chestnut', '#004b49': 'deep jungle green', '#ff1493': 'deep pink', '#ff9933': 'deep saffron', '#4a646c': 'deep space sparkle', '#7e5e60': 'deep taupe', '#1560bd': 'denim', '#2243b6': 'denim blue', '#edc9af': 'desert sand', '#696969': 'dim gray', '#1e90ff': 'dodger blue', '#d71868': 'dogwood rose', '#00009c': 'duke blue', '#efdfbb': 'dutch white', '#e1a95f': 'earth yellow', '#555d50': 'ebony', '#c2b280': 'sand', '#1b1b1b': 'eerie black', '#614051': 'eggplant', '#f0ead6': 'eggshell', '#1034a6': 'egyptian blue', '#7df9ff': 'electric blue', '#00ff00': 'lime (web) (x11 green)', '#6f00ff': 'electric indigo', '#ccff00': 'electric lime', '#bf00ff': 'electric purple', '#8f00ff': 'violet', '#50c878': 'paris green', '#6c3082': 'eminence', '#b48395': 'english lavender', '#ab4b52': 'english red', '#cc474b': 'english vermillion', '#563c5c': 'english violet', '#00ff40': 'erin', '#96c8a2': 'eton blue', '#801818': 'falu red', '#b53389': 'fandango', '#de5285': 'fandango pink', '#f400a1': 'hollywood cerise', '#e5aa70': 'fawn', '#4d5d53': 'feldgrau', '#4f7942': 'fern green', '#6c541e': 'field drab', '#ff5470': 'fiery rose', '#b22222': 'firebrick', '#ce2029': 'fire engine red', '#e95c4b': 'fire opal', '#e25822': 'flame', '#eedc82': 'flax', '#0063dc': 'flickr blue', '#fb0081': 'flickr pink', '#a2006d': 'flirt', '#fffaf0': 'floral white', '#15f4ee': 'fluorescent blue', '#5fa777': 'forest green (crayola)', '#014421': 'up forest green', '#228b22': 'forest green (web)', '#856d4d': 'french bistre', '#0072bb': 'french blue', '#fd3f92': 'french fuchsia', '#86608e': 'pomp and power', '#9efd38': 'french lime', '#d473d4': 'french mauve', '#fd6c9e': 'french pink', '#c72c48': 'french raspberry', '#f64a8a': 'french rose', '#77b5fe': 'french sky blue', '#8806ce': 'french violet', '#e936a7': 'frostbite', '#ff00ff': 'magenta', '#c154c1': 'fuchsia (crayola)', '#cc397b': 'fuchsia purple', '#c74375': 'fuchsia rose', '#e48400': 'fulvous', '#87421f': 'fuzzy wuzzy', '#dcdcdc': 'gainsboro', '#e49b0f': 'gamboge', '#007f66': 'generic viridian', '#f8f8ff': 'ghost white', '#6082b6': 'glaucous', '#ab92b3': 'glossy grape', '#00ab66': 'go green', '#a57c00': 'gold', '#d4af37': 'gold (metallic)', '#ffd700': 'gold (web) (golden)', '#e6be8a': 'gold (crayola)', '#85754e': 'gold fusion', '#996515': 'golden brown', '#fcc200': 'golden poppy', '#ffdf00': 'golden yellow', '#daa520': 'goldenrod', '#676767': 'granite gray', '#a8e4a0': 'granny smith apple', '#808080': 'gray (web)', '#bebebe': 'gray (x11 gray)', '#1cac78': 'green (crayola)', '#00a877': 'green (munsell)', '#009f6b': 'green (ncs)', '#00ad43': 'green (pantone)', '#00a550': 'green (pigment)', '#66b032': 'green (ryb)', '#1164b4': 'green-blue', '#2887c8': 'green-blue (crayola)', '#009966': 'green-cyan', '#a7f432': 'green lizard', '#6eaea1': 'green sheen', '#adff2f': 'green-yellow', '#f0e891': 'green-yellow (crayola)', '#a99a86': 'grullo', '#2a3439': 'gunmetal', '#446ccf': 'han blue', '#5218fa': 'han purple', '#3fff00': 'harlequin', '#da9100': 'harvest gold', '#ff7a00': 'heat wave', '#df73ff': 'heliotrope', '#aa98a9': 'rose quartz', '#f0fff0': 'honeydew', '#006db0': 'honolulu blue', '#49796b': \"hooker's green\", '#ff1dce': 'hot magenta', '#ff69b4': 'hot pink', '#355e3b': 'hunter green', '#71a6d2': 'iceberg', '#fcf75e': 'icterine', '#319177': 'illuminating emerald', '#ed2939': 'red (pantone)', '#b2ec5d': 'inchworm', '#4c516d': 'independence', '#138808': 'india green', '#cd5c5c': 'indian red', '#e3a857': 'indian yellow', '#4b0082': 'indigo', '#00416a': 'indigo dye', '#002fa7': 'international klein blue', '#ff4f00': 'international orange (aerospace)', '#ba160c': 'international orange (engineering)', '#c0362c': 'international orange (golden gate bridge)', '#5a4fcf': 'iris', '#b3446c': 'raspberry rose', '#f4f0ec': 'isabelline', '#fffff0': 'ivory', '#00a86b': 'jade', '#f8de7e': 'mellow yellow', '#a50b5e': 'jazzberry jam', '#343434': 'jet', '#f4ca16': 'jonquil', '#bdda57': 'june bud', '#29ab87': 'jungle green', '#4cbb17': 'kelly green', '#3ab09e': 'keppel', '#e8f48c': 'key lime', '#c3b091': 'khaki (web)', '#f0e68c': 'khaki (x11) (light khaki)', '#882d17': 'sienna', '#e79fc4': 'kobi', '#6b4423': 'kobicha', '#354230': 'kombu green', '#512888': 'ksu purple', '#d6cadd': 'languid lavender', '#26619c': 'lapis lazuli', '#ffff66': 'unmellow yellow', '#a9ba9d': 'laurel green', '#cf1020': 'lava', '#b57edc': 'lavender (floral)', '#e6e6fa': 'lavender (web)', '#ccccff': 'periwinkle', '#fff0f5': 'lavender blush', '#c4c3d0': 'lavender gray', '#7cfc00': 'lawn green', '#fff700': 'yellow sunshine', '#fffacd': 'lemon chiffon', '#cca01d': 'lemon curry', '#fdff00': 'lemon glacier', '#f6eabe': 'lemon meringue', '#fff44f': 'lemon yellow', '#ffff9f': 'lemon yellow (crayola)', '#545aa7': 'liberty', '#add8e6': 'light blue', '#f08080': 'light coral', '#93ccea': 'light cornflower blue', '#e0ffff': 'light cyan', '#c8ad7f': 'light french beige', '#fafad2': 'light goldenrod yellow', '#d3d3d3': 'light gray', '#90ee90': 'light green', '#fed8b1': 'light orange', '#c5cbe1': 'light periwinkle', '#ffb6c1': 'light pink', '#ffa07a': 'light salmon', '#20b2aa': 'light sea green', '#87cefa': 'light sky blue', '#778899': 'light slate gray', '#b0c4de': 'light steel blue', '#ffffe0': 'light yellow', '#c8a2c8': 'lilac', '#ae98aa': 'lilac luster', '#32cd32': 'lime green', '#195905': 'lincoln green', '#faf0e6': 'linen', '#6ca0dc': 'little boy blue', '#674c47': 'liver', '#b86d29': 'liver (dogs)', '#6c2e1f': 'liver (organ)', '#987456': 'liver chestnut', '#ffbd88': 'macaroni and cheese', '#cc3336': 'madder lake', '#f653a6': 'magenta (crayola)', '#ca1f7b': 'magenta (dye)', '#d0417e': 'magenta (pantone)', '#ff0090': 'magenta (process)', '#9f4576': 'magenta haze', '#aaf0d1': 'magic mint', '#f8f4ff': 'magnolia', '#c04000': 'mahogany', '#f2c649': 'maize (crayola)', '#6050dc': 'majorelle blue', '#0bda51': 'malachite', '#979aaa': 'manatee', '#f37a48': 'mandarin', '#fdbe02': 'mango', '#ff8243': 'mango tango', '#74c365': 'mantis', '#880085': 'mardi gras', '#eaa221': 'marigold', '#800000': 'maroon (web)', '#b03060': 'maroon (x11)', '#e0b0ff': 'mauve', '#915f6d': 'raspberry glace', '#ef98aa': 'mauvelous', '#47abcc': 'maximum blue', '#30bfbf': 'maximum blue green', '#acace6': 'maximum blue purple', '#5e8c31': 'maximum green', '#d9e650': 'maximum green yellow', '#733380': 'maximum purple', '#d92121': 'maximum red', '#a63a79': 'maximum red purple', '#fafa37': 'maximum yellow', '#f2ba49': 'maximum yellow red', '#4c9141': 'may green', '#73c2fb': 'maya blue', '#66ddaa': 'medium aquamarine', '#0000cd': 'medium blue', '#e2062c': 'medium candy apple red', '#af4035': 'medium carmine', '#f3e5ab': 'vanilla', '#ba55d3': 'medium orchid', '#9370db': 'medium purple', '#3cb371': 'medium sea green', '#7b68ee': 'medium slate blue', '#00fa9a': 'medium spring green', '#48d1cc': 'medium turquoise', '#c71585': 'red-violet', '#f8b878': 'mellow apricot', '#febaad': 'melon', '#d3af37': 'metallic gold', '#0a7e8c': 'metallic seaweed', '#9c7c38': 'metallic sunburst', '#e4007c': 'mexican pink', '#7ed4e6': 'middle blue', '#8dd9cc': 'middle blue green', '#8b72be': 'middle blue purple', '#8b8680': 'middle grey', '#4d8c57': 'middle green', '#acbf60': 'middle green yellow', '#d982b5': 'middle purple', '#e58e73': 'middle red', '#a55353': 'middle red purple', '#ffeb00': 'middle yellow', '#ecb176': 'middle yellow red', '#702670': 'midnight', '#191970': 'midnight blue', '#004953': 'midnight green (eagle green)', '#ffc40c': 'mikado yellow', '#ffdae9': 'mimi pink', '#e3f988': 'mindaro', '#36747d': 'ming', '#f5e050': 'minion yellow', '#3eb489': 'mint', '#f5fffa': 'mint cream', '#98ff98': 'mint green', '#bbb477': 'misty moss', '#ffe4e1': 'misty rose', '#8da399': 'morning blue', '#8a9a5b': 'turtle green', '#30ba8f': 'mountain meadow', '#997a8d': 'mountbatten pink', '#18453b': 'msu green', '#c54b8c': 'mulberry', '#c8509b': 'mulberry (crayola)', '#ffdb58': 'mustard', '#317873': 'myrtle green', '#d65282': 'mystic', '#ad4379': 'mystic maroon', '#f6adc6': 'nadeshiko pink', '#fada5e': 'stil de grain yellow', '#ffdead': 'navajo white', '#000080': 'navy blue', '#4666ff': 'neon blue', '#39ff14': 'neon green', '#d7837f': 'new york pink', '#727472': 'nickel', '#a4dded': 'non-photo blue', '#e9ffdb': 'nyanza', '#4f42b5': 'ocean blue', '#48bf91': 'ocean green', '#cc7722': 'ochre', '#43302e': 'old burgundy', '#cfb53b': 'old gold', '#fdf5e6': 'old lace', '#796878': 'old lavender', '#673147': 'wine dregs', '#c08081': 'old rose', '#808000': 'olive', '#6b8e23': 'olive drab (#3)', '#3c341f': 'olive drab (#7)', '#b5b35c': 'olive green', '#9ab973': 'olivine', '#353839': 'onyx', '#a8c3bc': 'opal', '#b784a7': 'opera mauve', '#ff7f00': 'orange', '#ff7538': 'orange (crayola)', '#ff5800': 'orange (pantone)', '#ffa500': 'orange (web)', '#ff9f00': 'orange peel', '#ff681f': 'red-orange (crayola)', '#ff5349': 'red-orange', '#fa5b3d': 'orange soda', '#f5bd1f': 'orange-yellow', '#f8d568': 'orange-yellow (crayola)', '#da70d6': 'orchid', '#f2bdcd': 'orchid pink', '#e29cd2': 'orchid (crayola)', '#2d383a': 'outer space (crayola)', '#ff6e4a': 'outrageous orange', '#002147': 'oxford blue', '#841617': 'ou crimson red', '#1ca9c9': 'pacific blue', '#006600': 'pakistan green', '#682860': 'palatinate purple', '#9bc4e2': 'pale cerulean', '#fadadd': 'pale pink', '#fae6fa': 'pale purple (pantone)', '#c9c0bb': 'silver (crayola)', '#ecebbd': 'spring green (crayola)', '#78184a': 'pansy purple', '#009b7d': 'paolo veronese green', '#ffefd5': 'papaya whip', '#e63e62': 'paradise pink', '#dea5a4': 'pastel pink', '#800080': 'purple (web)', '#ffe5b4': 'peach', '#ffcba4': 'peach (crayola)', '#ffdab9': 'peach puff', '#d1e231': 'pear', '#b768a2': 'pearly purple', '#c3cde6': 'periwinkle (crayola)', '#e12c2c': 'permanent geranium lake', '#1c39bb': 'persian blue', '#00a693': 'persian green', '#32127a': 'persian indigo', '#d99058': 'persian orange', '#f77fbe': 'persian pink', '#701c1c': 'prune', '#cc3333': 'persian red', '#fe28a2': 'persian rose', '#ec5800': 'persimmon', '#8ba8b7': 'pewter blue', '#df00ff': 'psychedelic purple', '#000f89': 'phthalo blue', '#123524': 'phthalo green', '#2e2787': 'picotee blue', '#c30b4e': 'pictorial carmine', '#fddde6': 'piggy pink', '#01796f': 'pine green', '#2a2f23': 'pine tree', '#ffc0cb': 'pink', '#d74894': 'pink (pantone)', '#fc74fd': 'pink flamingo', '#ffddf4': 'pink lace', '#d8b2d1': 'pink lavender', '#f78fa7': 'pink sherbet', '#93c572': 'pistachio', '#e5e4e2': 'platinum', '#8e4585': 'plum', '#dda0dd': 'plum (web)', '#5946b2': 'plump purple', '#5da493': 'polished pine', '#be4f62': 'popstar', '#ff5a36': 'portland orange', '#b0e0e6': 'powder blue', '#f58025': 'princeton orange', '#003153': 'prussian blue', '#cc8899': 'puce', '#644117': 'pullman brown (ups brown)', '#ff7518': 'pumpkin', '#6a0dad': 'purple', '#9f00c5': 'purple (munsell)', '#a020f0': 'veronica', '#9678b6': 'purple mountain majesty', '#4e5180': 'purple navy', '#fe4eda': 'purple pizzazz', '#9c51b6': 'purple plum', '#9a4eae': 'purpureus', '#436b95': 'queen blue', '#e8ccd7': 'queen pink', '#a6a6a6': 'quick silver', '#8e3a59': 'quinacridone magenta', '#ff355e': 'radical red', '#242124': 'raisin black', '#fbab60': 'rajah', '#e30b5d': 'raspberry', '#d68a59': 'raw sienna', '#826644': 'raw umber', '#ff33cc': 'razzle dazzle rose', '#e3256b': 'razzmatazz', '#8d4e85': 'razzmic berry', '#663399': 'rebecca purple', '#ff0000': 'red', '#ee204d': 'red (crayola)', '#f2003c': 'red (munsell)', '#c40233': 'red (ncs)', '#ed1c24': 'red (pigment)', '#fe2712': 'red (ryb)', '#ff4500': 'red-orange (color wheel)', '#e40078': 'red-purple', '#fd3a4a': 'red salsa', '#c0448f': 'red-violet (crayola)', '#922b3e': 'red-violet (color wheel)', '#a45a52': 'redwood', '#002387': 'resolution blue', '#777696': 'rhythm', '#004040': 'rich black', '#010b13': 'rich black (fogra29)', '#010203': 'rich black (fogra39)', '#444c38': 'rifle green', '#00cccc': 'robin egg blue', '#8a7f80': 'rocket metallic', '#838996': 'roman silver', '#ff007f': 'rose', '#f9429e': 'rose bonbon', '#9e5e6f': 'rose dust', '#674846': 'rose ebony', '#e32636': 'rose madder', '#ff66cc': 'rose pink', '#c21e56': 'rose red', '#905d5d': 'rose taupe', '#ab4e52': 'rose vale', '#65000b': 'rosewood', '#d40000': 'rosso corsa', '#bc8f8f': 'rosy brown', '#002366': 'royal blue (dark)', '#4169e1': 'royal blue (light)', '#7851a9': 'royal purple', '#ce4676': 'ruber', '#d10056': 'rubine red', '#e0115f': 'ruby', '#9b111e': 'ruby red', '#a81c07': 'rufous', '#80461b': 'russet', '#679267': 'russian green', '#32174d': 'russian violet', '#b7410e': 'rust', '#da2c43': 'rusty red', '#043927': 'sacramento state green', '#8b4513': 'saddle brown', '#ff7800': 'safety orange', '#ff6700': 'safety orange (blaze orange)', '#eed202': 'safety yellow', '#f4c430': 'saffron', '#bcb88a': 'sage', '#23297a': \"st. patrick's blue\", '#fa8072': 'salmon', '#ff91a4': 'salmon pink', '#f4a460': 'sandy brown', '#507d2a': 'sap green', '#0f52ba': 'sapphire', '#0067a5': 'sapphire (crayola)', '#cba135': 'satin sheen gold', '#ff2400': 'scarlet', '#ffd800': 'school bus yellow', '#66ff66': \"screamin' green\", '#2e8b57': 'sea green', '#00ffcd': 'sea green (crayola)', '#59260b': 'seal brown', '#fff5ee': 'seashell', '#ffba00': 'selective yellow', '#704214': 'sepia', '#8a795d': 'shadow', '#778ba5': 'shadow blue', '#009e60': 'shamrock green', '#8fd400': 'sheen green', '#d98695': 'shimmering blush', '#5fa778': 'shiny shamrock', '#fc0fc0': 'shocking pink', '#ff6fff': 'ultra pink', '#c0c0c0': 'silver', '#aaa9ad': 'silver (metallic)', '#acacac': 'silver chalice', '#c4aead': 'silver pink', '#bfc1c2': 'silver sand', '#cb410b': 'sinopia', '#ff3855': 'sizzling red', '#ffdb00': 'sizzling sunrise', '#007474': 'skobeloff', '#87ceeb': 'sky blue', '#76d7ea': 'sky blue (crayola)', '#cf71af': 'sky magenta', '#6a5acd': 'slate blue', '#708090': 'slate gray', '#299617': 'slimy green', '#c84186': 'smitten', '#100c08': 'smoky black', '#fffafa': 'snow', '#893843': 'solid pink', '#757575': 'sonic silver', '#1d2951': 'space cadet', '#807532': 'spanish bistre', '#0070b8': 'spanish blue', '#d10047': 'spanish carmine', '#989898': 'spanish gray', '#009150': 'spanish green', '#e86100': 'spanish orange', '#f7bfbe': 'spanish pink', '#e60026': 'spanish red', '#4c2882': 'spanish violet', '#007f5c': 'spanish viridian', '#a7fc00': 'spring bud', '#87ff2a': 'spring frost', '#00ff7f': 'spring green', '#007bb8': 'star command blue', '#4682b4': 'steel blue', '#cc33cc': 'steel pink', '#5f8a8b': 'steel teal', '#e4d96f': 'straw', '#914e75': 'sugar plum', '#ffcc33': 'sunglow', '#e3ab57': 'sunray', '#cf6ba9': 'super pink', '#a83731': 'sweet brown', '#d2b48c': 'tan', '#d99a6c': 'tan (crayola)', '#f28500': 'tangerine', '#fb4d46': 'tart orange', '#8b8589': 'taupe gray', '#d0f0c0': 'tea green', '#008080': 'teal', '#367588': 'teal blue', '#cf3476': 'telemagenta', '#cd5700': 'tenné (tawny)', '#e2725b': 'terra cotta', '#d8bfd8': 'thistle', '#fc89ac': 'tickle me pink', '#0abab5': 'tiffany blue', '#dbd7d2': 'timberwolf', '#eee600': 'titanium yellow', '#ff6347': 'tomato', '#00755e': 'tropical rain forest', '#2d68c4': 'true blue', '#1c05b3': 'trypan blue', '#3e8ede': 'tufts blue', '#deaa88': 'tumbleweed', '#40e0d0': 'turquoise', '#00ffef': 'turquoise blue', '#a0d6b4': 'turquoise green', '#7c4848': 'tuscan red', '#c09999': 'tuscany', '#8a496b': 'twilight lavender', '#66023c': 'tyrian purple', '#0033aa': 'ua blue', '#d9004c': 'ua red', '#3f00ff': 'ultramarine', '#4166f5': 'ultramarine blue', '#fc6c85': 'wild watermelon', '#635147': 'umber', '#ffddca': 'unbleached silk', '#5b92e5': 'united nations blue', '#7b1113': 'up maroon', '#ae2029': 'upsdell red', '#afdbf5': 'uranian blue', '#004f98': 'usafa blue', '#664228': 'van dyke brown', '#f38fa9': 'vanilla ice', '#c5b358': 'vegas gold', '#c80815': 'venetian red', '#43b3ae': 'verdigris', '#d9381e': 'vermilion', '#7f00ff': 'violet (color wheel)', '#963d7f': 'violet (crayola)', '#8601af': 'violet (ryb)', '#ee82ee': 'violet (web)', '#324ab2': 'violet-blue', '#766ec8': 'violet-blue (crayola)', '#f75394': 'violet-red', '#40826d': 'viridian', '#009698': 'viridian green', '#9f1d35': 'vivid burgundy', '#00ccff': 'vivid sky blue', '#ffa089': 'vivid tangerine', '#9f00ff': 'vivid violet', '#ceff00': 'volt', '#004242': 'warm black', '#f5deb3': 'wheat', '#ffffff': 'white', '#a2add0': 'wild blue yonder', '#d470a2': 'wild orchid', '#ff43a4': 'wild strawberry', '#a75502': 'windsor tan', '#722f37': 'wine', '#ff007c': 'winter sky', '#56887d': 'wintergreen dream', '#c9a0dc': 'wisteria', '#eeed09': 'xanthic', '#738678': 'xanadu', '#0c020f': 'xiketic', '#0f4d92': 'yale blue', '#ffff00': 'yellow', '#fce883': 'yellow (crayola)', '#efcc00': 'yellow (munsell)', '#fedf00': 'yellow (pantone)', '#fefe33': 'yellow (ryb)', '#9acd32': 'yellow-green', '#c5e384': 'yellow-green (crayola)', '#30b21a': 'yellow-green (color wheel)', '#ffae42': 'yellow orange', '#ff9505': 'yellow orange (color wheel)', '#2e5090': 'yinmn blue', '#0014a8': 'zaffre', '#39a78e': 'zomp'\n",
    "        }"
   ]
  },
  {
   "cell_type": "code",
   "execution_count": 18,
   "id": "e3259e74",
   "metadata": {},
   "outputs": [
    {
     "data": {
      "text/plain": [
       "dict"
      ]
     },
     "execution_count": 18,
     "metadata": {},
     "output_type": "execute_result"
    }
   ],
   "source": [
    "type(color)"
   ]
  },
  {
   "cell_type": "code",
   "execution_count": 19,
   "id": "efb8314a",
   "metadata": {},
   "outputs": [],
   "source": [
    "import csv\n",
    "\n",
    "#dict = {'name': 'krunal', 'age': 26, 'education': 'Engineering'}        \n",
    "with open('data.csv', 'w') as f:  \n",
    "    writer = csv.writer(f)\n",
    "    for k, v in color.items():\n",
    "       writer.writerow([k, v])"
   ]
  },
  {
   "cell_type": "code",
   "execution_count": 24,
   "id": "f2aa0dba",
   "metadata": {},
   "outputs": [
    {
     "name": "stdout",
     "output_type": "stream",
     "text": [
      "{'#000000': 'black', '#ffffff': 'white', '#808080': 'gray (web)', '#b0b0b0': 'light gray', '#ff0000': 'red', '#800000': 'maroon (web)', '#00ff00': 'lime (web) (x11 green)', '#008000': 'green (web)', '#0000ff': 'blue', '#000080': 'navy blue', '#ffff00': 'yellow', '#808000': 'olive', '#00ffff': 'spanish sky blue', '#ff00ff': 'magenta', '#800080': 'purple (web)', '#b0bf1a': 'acid green', '#0048ba': 'absolute zero', '#7cb9e8': 'aero', '#c9ffe5': 'aer o blue', '#b284be': 'african violet', '#72a0c1': 'air superiority blue', '#edeae0': 'alabaster', '#f0f8ff': 'alice blue', '#c46210': 'alloy orange', '#efdecd': 'almond', '#e52b50': 'amaranth', '#9f2b68': 'amaranth (m&p)', '#f19cbb': 'amaranth pink', '#ab274f': 'amaranth purple', '#d3212d': 'amaranth red', '#3b7a57': 'amazon', '#ffbf00': 'amber', '#ff7e00': 'amber (sae/ece)', '#9966cc': 'amethyst', '#a4c639': 'android green', '#cd9575': 'antique brass', '#665d1e': 'antique bronze', '#915c83': 'antique fuchsia', '#841b2d': 'antique ruby', '#faebd7': 'antique white', '#8db600': 'apple green', '#fbceb1': 'apricot', '#7fffd4': 'aquamarine', '#d0ff14': 'arctic lime', '#4b5320': 'army green', '#8f9779': 'artichoke', '#e9d66b': 'hansa yellow', '#b2beb5': 'ash gray', '#87a96b': 'asparagus', '#ff9966': 'atomic tangerine', '#a52a2a': 'auburn', '#fdee00': 'aureolin', '#568203': 'avocado', '#007fff': 'azure', '#f0ffff': 'azure (x11/web color)', '#89cff0': 'baby blue', '#a1caf1': 'baby blue eyes', '#f4c2c2': 'tea rose', '#fefefa': 'baby powder', '#ff91af': 'schauss pink', '#fae7b5': 'banana mania', '#da1884': 'barbie pink', '#7c0a02': 'barn red', '#848482': 'old silver', '#bcd4e6': 'pale aqua', '#9f8170': 'beaver', '#f5f5dc': 'beige', '#2e5894': \"b'dazzled blue\", '#9c2542': 'big dip o’ruby', '#ffe4c4': 'bisque', '#3d2b1f': 'bistre', '#967117': 'sand dune', '#cae00d': 'bitter lemon', '#bfff00': 'lime (color wheel)', '#fe6f5e': 'bittersweet', '#bf4f51': 'bittersweet shimmer', '#3d0c02': 'black bean', '#1b1811': 'black chocolate', '#3b2f2f': 'black coffee', '#54626f': 'black coral', '#3b3c36': 'black olive', '#bfafb2': 'black shadows', '#ffebcd': 'blanched almond', '#a57164': 'blast-off bronze', '#318ce7': 'bleu de france', '#ace5ee': 'blizzard blue', '#faf0be': 'blond', '#660000': 'blood red', '#1f75fe': 'blue (crayola)', '#0093af': 'blue (munsell)', '#0087bd': 'blue (ncs)', '#0018a8': 'blue (pantone)', '#333399': 'blue (pigment)', '#0247fe': 'blue (ryb)', '#a2a2d0': 'blue bell', '#6699cc': 'livid', '#0d98ba': 'blue-green', '#064e40': 'blue-green (color wheel)', '#5dadec': 'blue jeans', '#126180': 'blue sapphire', '#8a2be2': 'blue-violet', '#7366bd': 'blue-violet (crayola)', '#4d1a7f': 'blue-violet (color wheel)', '#5072a7': 'blue yonder', '#3c69e7': 'bluetiful', '#de5d83': 'blush', '#79443b': 'bole', '#e3dac9': 'bone', '#006a4e': 'bottle green', '#87413f': 'brandy', '#cb4154': 'brick red', '#66ff00': 'bright green', '#d891ef': 'bright lilac', '#c32148': 'maroon (crayola)', '#1974d2': 'navy blue (crayola)', '#ffaa1d': 'bright yellow (crayola)', '#ff55a3': 'brilliant rose', '#fb607f': 'brink pink', '#004225': 'british racing green', '#cd7f32': 'bronze', '#88540b': 'brown', '#af6e4d': 'brown sugar', '#1b4d3e': 'english green', '#7bb661': 'bud green', '#f0dc82': 'buff', '#800020': 'oxblood', '#deb887': 'burlywood', '#a17a74': 'burnished brown', '#cc5500': 'burnt orange', '#e97451': 'burnt sienna', '#8a3324': 'burnt umber', '#bd33a4': 'byzantine', '#702963': 'byzantium', '#536872': 'cadet', '#5f9ea0': 'cadet blue', '#a9b2c3': 'cadet blue (crayola)', '#91a3b0': 'cadet grey', '#006b3c': 'cadmium green', '#ed872d': 'cadmium orange', '#e30022': 'cadmium red', '#fff600': 'cadmium yellow', '#a67b5b': 'tuscan tan', '#4b3621': 'café noir', '#a3c1ad': 'cambridge blue', '#c19a6b': 'wood brown', '#efbbcc': 'cameo pink', '#ffff99': 'canary', '#ffef00': 'yellow (process)', '#ff0800': 'candy apple red', '#e4717a': 'tango pink', '#00bfff': 'deep sky blue', '#592720': 'caput mortuum', '#c41e3a': 'cardinal', '#00cc99': 'caribbean green', '#960018': 'carmine', '#d70040': 'carmine (m&p)', '#ffa6c9': 'carnation pink', '#b31b1b': 'carnelian', '#56a0d3': 'carolina blue', '#ed9121': 'carrot orange', '#00563f': 'castleton green', '#703642': 'catawba', '#c95a49': 'cedar chest', '#ace1af': 'celadon', '#007ba7': 'cerulean', '#2f847c': 'celadon green', '#b2ffff': 'italian sky blue', '#246bce': 'celtic blue', '#de3163': 'cerise', '#2a52be': 'cerulean blue', '#6d9bc3': 'cerulean frost', '#1dacd6': 'cerulean (crayola)', '#007aa5': 'cg blue', '#e03c31': 'cg red', '#f7e7ce': 'champagne', '#f1ddcf': 'champagne pink', '#36454f': 'charcoal', '#232b2b': 'charleston green', '#e68fac': 'charm pink', '#dfff00': 'chartreuse (traditional)', '#7fff00': 'chartreuse (web)', '#ffb7c5': 'cherry blossom pink', '#954535': 'chestnut', '#de6fa1': 'thulian pink', '#a8516e': 'china rose', '#aa381e': 'chinese red', '#856088': 'chinese violet', '#ffb200': 'chinese yellow', '#7b3f00': 'chocolate (traditional)', '#d2691e': 'cocoa brown', '#ffa700': 'chrome yellow', '#98817b': 'cinereous', '#e34234': 'vermilion', '#cd607e': 'cinnamon satin', '#e4d00a': 'citrine', '#9fa91f': 'citron', '#7f1734': 'claret', '#0047ab': 'cobalt blue', '#6f4e37': 'tuscan brown', '#b9d9eb': 'columbia blue', '#f88379': 'tea rose', '#8c92ac': 'cool grey', '#b87333': 'copper', '#da8a67': 'copper (crayola)', '#ad6f69': 'copper penny', '#cb6d51': 'copper red', '#996666': 'copper rose', '#ff3800': 'coquelicot', '#ff7f50': 'coral', '#893f45': 'cordovan', '#fbec5d': 'maize', '#6495ed': 'cornflower blue', '#fff8dc': 'cornsilk', '#2e2d88': 'cosmic cobalt', '#fff8e7': 'cosmic latte', '#81613c': 'coyote brown', '#ffbcd9': 'cotton candy', '#fffdd0': 'cream', '#dc143c': 'crimson', '#9e1b32': 'crimson (ua)', '#f5f5f5': 'cultured', '#00b7eb': 'cyan (process)', '#58427c': 'cyber grape', '#ffd300': 'yellow (ncs)', '#f56fa1': 'cyclamen', '#666699': 'dark blue-gray', '#654321': 'dark brown', '#5d3954': 'dark byzantium', '#26428b': 'dark cornflower blue', '#008b8b': 'dark cyan', '#536878': \"payne's grey\", '#b8860b': 'dark goldenrod', '#013220': 'dark green', '#006400': 'dark green (x11)', '#1a2421': 'dark jungle green', '#bdb76b': 'dark khaki', '#483c32': 'taupe', '#534b4f': 'dark liver', '#543d37': 'dark liver (horses)', '#8b008b': 'dark magenta', '#4a5d23': 'dark moss green', '#556b2f': 'dark olive green', '#ff8c00': 'dark orange', '#9932cc': 'dark orchid', '#03c03c': 'dark pastel green', '#301934': 'dark purple', '#8b0000': 'dark red', '#e9967a': 'dark salmon', '#8fbc8f': 'dark sea green', '#3c1414': 'dark sienna', '#8cbed6': 'dark sky blue', '#483d8b': 'dark slate blue', '#2f4f4f': 'dark slate gray', '#177245': 'dark spring green', '#00ced1': 'dark turquoise', '#9400d3': 'dark violet', '#00703c': 'dartmouth green', '#555555': \"davy's grey\", '#da3287': 'deep cerise', '#fad6a5': 'tuscan', '#b94e48': 'deep chestnut', '#004b49': 'deep jungle green', '#ff1493': 'deep pink', '#ff9933': 'deep saffron', '#4a646c': 'deep space sparkle', '#7e5e60': 'deep taupe', '#1560bd': 'denim', '#2243b6': 'denim blue', '#edc9af': 'desert sand', '#696969': 'dim gray', '#1e90ff': 'dodger blue', '#d71868': 'dogwood rose', '#00009c': 'duke blue', '#efdfbb': 'dutch white', '#e1a95f': 'earth yellow', '#555d50': 'ebony', '#c2b280': 'sand', '#1b1b1b': 'eerie black', '#614051': 'eggplant', '#f0ead6': 'eggshell', '#1034a6': 'egyptian blue', '#7df9ff': 'electric blue', '#6f00ff': 'electric indigo', '#ccff00': 'electric lime', '#bf00ff': 'electric purple', '#8f00ff': 'violet', '#50c878': 'paris green', '#6c3082': 'eminence', '#b48395': 'english lavender', '#ab4b52': 'english red', '#cc474b': 'english vermillion', '#563c5c': 'english violet', '#00ff40': 'erin', '#96c8a2': 'eton blue', '#801818': 'falu red', '#b53389': 'fandango', '#de5285': 'fandango pink', '#f400a1': 'hollywood cerise', '#e5aa70': 'fawn', '#4d5d53': 'feldgrau', '#4f7942': 'fern green', '#6c541e': 'field drab', '#ff5470': 'fiery rose', '#b22222': 'firebrick', '#ce2029': 'fire engine red', '#e95c4b': 'fire opal', '#e25822': 'flame', '#eedc82': 'flax', '#0063dc': 'flickr blue', '#fb0081': 'flickr pink', '#a2006d': 'flirt', '#fffaf0': 'floral white', '#15f4ee': 'fluorescent blue', '#5fa777': 'forest green (crayola)', '#014421': 'up forest green', '#228b22': 'forest green (web)', '#856d4d': 'french bistre', '#0072bb': 'french blue', '#fd3f92': 'french fuchsia', '#86608e': 'pomp and power', '#9efd38': 'french lime', '#d473d4': 'french mauve', '#fd6c9e': 'french pink', '#c72c48': 'french raspberry', '#f64a8a': 'french rose', '#77b5fe': 'french sky blue', '#8806ce': 'french violet', '#e936a7': 'frostbite', '#c154c1': 'fuchsia (crayola)', '#cc397b': 'fuchsia purple', '#c74375': 'fuchsia rose', '#e48400': 'fulvous', '#87421f': 'fuzzy wuzzy', '#dcdcdc': 'gainsboro', '#e49b0f': 'gamboge', '#007f66': 'generic viridian', '#f8f8ff': 'ghost white', '#6082b6': 'glaucous', '#ab92b3': 'glossy grape', '#00ab66': 'go green', '#a57c00': 'gold', '#d4af37': 'gold (metallic)', '#ffd700': 'gold (web) (golden)', '#e6be8a': 'gold (crayola)', '#85754e': 'gold fusion', '#996515': 'golden brown', '#fcc200': 'golden poppy', '#ffdf00': 'golden yellow', '#daa520': 'goldenrod', '#676767': 'granite gray', '#a8e4a0': 'granny smith apple', '#bebebe': 'gray (x11 gray)', '#1cac78': 'green (crayola)', '#00a877': 'green (munsell)', '#009f6b': 'green (ncs)', '#00ad43': 'green (pantone)', '#00a550': 'green (pigment)', '#66b032': 'green (ryb)', '#1164b4': 'green-blue', '#2887c8': 'green-blue (crayola)', '#009966': 'green-cyan', '#a7f432': 'green lizard', '#6eaea1': 'green sheen', '#adff2f': 'green-yellow', '#f0e891': 'green-yellow (crayola)', '#a99a86': 'grullo', '#2a3439': 'gunmetal', '#446ccf': 'han blue', '#5218fa': 'han purple', '#3fff00': 'harlequin', '#da9100': 'harvest gold', '#ff7a00': 'heat wave', '#df73ff': 'heliotrope', '#aa98a9': 'rose quartz', '#f0fff0': 'honeydew', '#006db0': 'honolulu blue', '#49796b': \"hooker's green\", '#ff1dce': 'hot magenta', '#ff69b4': 'hot pink', '#355e3b': 'hunter green', '#71a6d2': 'iceberg', '#fcf75e': 'icterine', '#319177': 'illuminating emerald', '#ed2939': 'red (pantone)', '#b2ec5d': 'inchworm', '#4c516d': 'independence', '#138808': 'india green', '#cd5c5c': 'indian red', '#e3a857': 'indian yellow', '#4b0082': 'indigo', '#00416a': 'indigo dye', '#002fa7': 'international klein blue', '#ff4f00': 'international orange (aerospace)', '#ba160c': 'international orange (engineering)', '#c0362c': 'international orange (golden gate bridge)', '#5a4fcf': 'iris', '#b3446c': 'raspberry rose', '#f4f0ec': 'isabelline', '#fffff0': 'ivory', '#00a86b': 'jade', '#f8de7e': 'mellow yellow', '#a50b5e': 'jazzberry jam', '#343434': 'jet', '#f4ca16': 'jonquil', '#bdda57': 'june bud', '#29ab87': 'jungle green', '#4cbb17': 'kelly green', '#3ab09e': 'keppel', '#e8f48c': 'key lime', '#c3b091': 'khaki (web)', '#f0e68c': 'khaki (x11) (light khaki)', '#882d17': 'sienna', '#e79fc4': 'kobi', '#6b4423': 'kobicha', '#354230': 'kombu green', '#512888': 'ksu purple', '#d6cadd': 'languid lavender', '#26619c': 'lapis lazuli', '#ffff66': 'unmellow yellow', '#a9ba9d': 'laurel green', '#cf1020': 'lava', '#b57edc': 'lavender (floral)', '#e6e6fa': 'lavender (web)', '#ccccff': 'periwinkle', '#fff0f5': 'lavender blush', '#c4c3d0': 'lavender gray', '#7cfc00': 'lawn green', '#fff700': 'yellow sunshine', '#fffacd': 'lemon chiffon', '#cca01d': 'lemon curry', '#fdff00': 'lemon glacier', '#f6eabe': 'lemon meringue', '#fff44f': 'lemon yellow', '#ffff9f': 'lemon yellow (crayola)', '#545aa7': 'liberty', '#add8e6': 'light blue', '#f08080': 'light coral', '#93ccea': 'light cornflower blue', '#e0ffff': 'light cyan', '#c8ad7f': 'light french beige', '#fafad2': 'light goldenrod yellow', '#d3d3d3': 'light gray', '#90ee90': 'light green', '#fed8b1': 'light orange', '#c5cbe1': 'light periwinkle', '#ffb6c1': 'light pink', '#ffa07a': 'light salmon', '#20b2aa': 'light sea green', '#87cefa': 'light sky blue', '#778899': 'light slate gray', '#b0c4de': 'light steel blue', '#ffffe0': 'light yellow', '#c8a2c8': 'lilac', '#ae98aa': 'lilac luster', '#32cd32': 'lime green', '#195905': 'lincoln green', '#faf0e6': 'linen', '#6ca0dc': 'little boy blue', '#674c47': 'liver', '#b86d29': 'liver (dogs)', '#6c2e1f': 'liver (organ)', '#987456': 'liver chestnut', '#ffbd88': 'macaroni and cheese', '#cc3336': 'madder lake', '#f653a6': 'magenta (crayola)', '#ca1f7b': 'magenta (dye)', '#d0417e': 'magenta (pantone)', '#ff0090': 'magenta (process)', '#9f4576': 'magenta haze', '#aaf0d1': 'magic mint', '#f8f4ff': 'magnolia', '#c04000': 'mahogany', '#f2c649': 'maize (crayola)', '#6050dc': 'majorelle blue', '#0bda51': 'malachite', '#979aaa': 'manatee', '#f37a48': 'mandarin', '#fdbe02': 'mango', '#ff8243': 'mango tango', '#74c365': 'mantis', '#880085': 'mardi gras', '#eaa221': 'marigold', '#b03060': 'maroon (x11)', '#e0b0ff': 'mauve', '#915f6d': 'raspberry glace', '#ef98aa': 'mauvelous', '#47abcc': 'maximum blue', '#30bfbf': 'maximum blue green', '#acace6': 'maximum blue purple', '#5e8c31': 'maximum green', '#d9e650': 'maximum green yellow', '#733380': 'maximum purple', '#d92121': 'maximum red', '#a63a79': 'maximum red purple', '#fafa37': 'maximum yellow', '#f2ba49': 'maximum yellow red', '#4c9141': 'may green', '#73c2fb': 'maya blue', '#66ddaa': 'medium aquamarine', '#0000cd': 'medium blue', '#e2062c': 'medium candy apple red', '#af4035': 'medium carmine', '#f3e5ab': 'vanilla', '#ba55d3': 'medium orchid', '#9370db': 'medium purple', '#3cb371': 'medium sea green', '#7b68ee': 'medium slate blue', '#00fa9a': 'medium spring green', '#48d1cc': 'medium turquoise', '#c71585': 'red-violet', '#f8b878': 'mellow apricot', '#febaad': 'melon', '#d3af37': 'metallic gold', '#0a7e8c': 'metallic seaweed', '#9c7c38': 'metallic sunburst', '#e4007c': 'mexican pink', '#7ed4e6': 'middle blue', '#8dd9cc': 'middle blue green', '#8b72be': 'middle blue purple', '#8b8680': 'middle grey', '#4d8c57': 'middle green', '#acbf60': 'middle green yellow', '#d982b5': 'middle purple', '#e58e73': 'middle red', '#a55353': 'middle red purple', '#ffeb00': 'middle yellow', '#ecb176': 'middle yellow red', '#702670': 'midnight', '#191970': 'midnight blue', '#004953': 'midnight green (eagle green)', '#ffc40c': 'mikado yellow', '#ffdae9': 'mimi pink', '#e3f988': 'mindaro', '#36747d': 'ming', '#f5e050': 'minion yellow', '#3eb489': 'mint', '#f5fffa': 'mint cream', '#98ff98': 'mint green', '#bbb477': 'misty moss', '#ffe4e1': 'misty rose', '#8da399': 'morning blue', '#8a9a5b': 'turtle green', '#30ba8f': 'mountain meadow', '#997a8d': 'mountbatten pink', '#18453b': 'msu green', '#c54b8c': 'mulberry', '#c8509b': 'mulberry (crayola)', '#ffdb58': 'mustard', '#317873': 'myrtle green', '#d65282': 'mystic', '#ad4379': 'mystic maroon', '#f6adc6': 'nadeshiko pink', '#fada5e': 'stil de grain yellow', '#ffdead': 'navajo white', '#4666ff': 'neon blue', '#39ff14': 'neon green', '#d7837f': 'new york pink', '#727472': 'nickel', '#a4dded': 'non-photo blue', '#e9ffdb': 'nyanza', '#4f42b5': 'ocean blue', '#48bf91': 'ocean green', '#cc7722': 'ochre', '#43302e': 'old burgundy', '#cfb53b': 'old gold', '#fdf5e6': 'old lace', '#796878': 'old lavender', '#673147': 'wine dregs', '#c08081': 'old rose', '#6b8e23': 'olive drab (#3)', '#3c341f': 'olive drab (#7)', '#b5b35c': 'olive green', '#9ab973': 'olivine', '#353839': 'onyx', '#a8c3bc': 'opal', '#b784a7': 'opera mauve', '#ff7f00': 'orange', '#ff7538': 'orange (crayola)', '#ff5800': 'orange (pantone)', '#ffa500': 'orange (web)', '#ff9f00': 'orange peel', '#ff681f': 'red-orange (crayola)', '#ff5349': 'red-orange', '#fa5b3d': 'orange soda', '#f5bd1f': 'orange-yellow', '#f8d568': 'orange-yellow (crayola)', '#da70d6': 'orchid', '#f2bdcd': 'orchid pink', '#e29cd2': 'orchid (crayola)', '#2d383a': 'outer space (crayola)', '#ff6e4a': 'outrageous orange', '#002147': 'oxford blue', '#841617': 'ou crimson red', '#1ca9c9': 'pacific blue', '#006600': 'pakistan green', '#682860': 'palatinate purple', '#9bc4e2': 'pale cerulean', '#fadadd': 'pale pink', '#fae6fa': 'pale purple (pantone)', '#c9c0bb': 'silver (crayola)', '#ecebbd': 'spring green (crayola)', '#78184a': 'pansy purple', '#009b7d': 'paolo veronese green', '#ffefd5': 'papaya whip', '#e63e62': 'paradise pink', '#dea5a4': 'pastel pink', '#ffe5b4': 'peach', '#ffcba4': 'peach (crayola)', '#ffdab9': 'peach puff', '#d1e231': 'pear', '#b768a2': 'pearly purple', '#c3cde6': 'periwinkle (crayola)', '#e12c2c': 'permanent geranium lake', '#1c39bb': 'persian blue', '#00a693': 'persian green', '#32127a': 'persian indigo', '#d99058': 'persian orange', '#f77fbe': 'persian pink', '#701c1c': 'prune', '#cc3333': 'persian red', '#fe28a2': 'persian rose', '#ec5800': 'persimmon', '#8ba8b7': 'pewter blue', '#df00ff': 'psychedelic purple', '#000f89': 'phthalo blue', '#123524': 'phthalo green', '#2e2787': 'picotee blue', '#c30b4e': 'pictorial carmine', '#fddde6': 'piggy pink', '#01796f': 'pine green', '#2a2f23': 'pine tree', '#ffc0cb': 'pink', '#d74894': 'pink (pantone)', '#fc74fd': 'pink flamingo', '#ffddf4': 'pink lace', '#d8b2d1': 'pink lavender', '#f78fa7': 'pink sherbet', '#93c572': 'pistachio', '#e5e4e2': 'platinum', '#8e4585': 'plum', '#dda0dd': 'plum (web)', '#5946b2': 'plump purple', '#5da493': 'polished pine', '#be4f62': 'popstar', '#ff5a36': 'portland orange', '#b0e0e6': 'powder blue', '#f58025': 'princeton orange', '#003153': 'prussian blue', '#cc8899': 'puce', '#644117': 'pullman brown (ups brown)', '#ff7518': 'pumpkin', '#6a0dad': 'purple', '#9f00c5': 'purple (munsell)', '#a020f0': 'veronica', '#9678b6': 'purple mountain majesty', '#4e5180': 'purple navy', '#fe4eda': 'purple pizzazz', '#9c51b6': 'purple plum', '#9a4eae': 'purpureus', '#436b95': 'queen blue', '#e8ccd7': 'queen pink', '#a6a6a6': 'quick silver', '#8e3a59': 'quinacridone magenta', '#ff355e': 'radical red', '#242124': 'raisin black', '#fbab60': 'rajah', '#e30b5d': 'raspberry', '#d68a59': 'raw sienna', '#826644': 'raw umber', '#ff33cc': 'razzle dazzle rose', '#e3256b': 'razzmatazz', '#8d4e85': 'razzmic berry', '#663399': 'rebecca purple', '#ee204d': 'red (crayola)', '#f2003c': 'red (munsell)', '#c40233': 'red (ncs)', '#ed1c24': 'red (pigment)', '#fe2712': 'red (ryb)', '#ff4500': 'red-orange (color wheel)', '#e40078': 'red-purple', '#fd3a4a': 'red salsa', '#c0448f': 'red-violet (crayola)', '#922b3e': 'red-violet (color wheel)', '#a45a52': 'redwood', '#002387': 'resolution blue', '#777696': 'rhythm', '#004040': 'rich black', '#010b13': 'rich black (fogra29)', '#010203': 'rich black (fogra39)', '#444c38': 'rifle green', '#00cccc': 'robin egg blue', '#8a7f80': 'rocket metallic', '#838996': 'roman silver', '#ff007f': 'rose', '#f9429e': 'rose bonbon', '#9e5e6f': 'rose dust', '#674846': 'rose ebony', '#e32636': 'rose madder', '#ff66cc': 'rose pink', '#c21e56': 'rose red', '#905d5d': 'rose taupe', '#ab4e52': 'rose vale', '#65000b': 'rosewood', '#d40000': 'rosso corsa', '#bc8f8f': 'rosy brown', '#002366': 'royal blue (dark)', '#4169e1': 'royal blue (light)', '#7851a9': 'royal purple', '#ce4676': 'ruber', '#d10056': 'rubine red', '#e0115f': 'ruby', '#9b111e': 'ruby red', '#a81c07': 'rufous', '#80461b': 'russet', '#679267': 'russian green', '#32174d': 'russian violet', '#b7410e': 'rust', '#da2c43': 'rusty red', '#043927': 'sacramento state green', '#8b4513': 'saddle brown', '#ff7800': 'safety orange', '#ff6700': 'safety orange (blaze orange)', '#eed202': 'safety yellow', '#f4c430': 'saffron', '#bcb88a': 'sage', '#23297a': \"st. patrick's blue\", '#fa8072': 'salmon', '#ff91a4': 'salmon pink', '#f4a460': 'sandy brown', '#507d2a': 'sap green', '#0f52ba': 'sapphire', '#0067a5': 'sapphire (crayola)', '#cba135': 'satin sheen gold', '#ff2400': 'scarlet', '#ffd800': 'school bus yellow', '#66ff66': \"screamin' green\", '#2e8b57': 'sea green', '#00ffcd': 'sea green (crayola)', '#59260b': 'seal brown', '#fff5ee': 'seashell', '#ffba00': 'selective yellow', '#704214': 'sepia', '#8a795d': 'shadow', '#778ba5': 'shadow blue', '#009e60': 'shamrock green', '#8fd400': 'sheen green', '#d98695': 'shimmering blush', '#5fa778': 'shiny shamrock', '#fc0fc0': 'shocking pink', '#ff6fff': 'ultra pink', '#c0c0c0': 'silver', '#aaa9ad': 'silver (metallic)', '#acacac': 'silver chalice', '#c4aead': 'silver pink', '#bfc1c2': 'silver sand', '#cb410b': 'sinopia', '#ff3855': 'sizzling red', '#ffdb00': 'sizzling sunrise', '#007474': 'skobeloff', '#87ceeb': 'sky blue', '#76d7ea': 'sky blue (crayola)', '#cf71af': 'sky magenta', '#6a5acd': 'slate blue', '#708090': 'slate gray', '#299617': 'slimy green', '#c84186': 'smitten', '#100c08': 'smoky black', '#fffafa': 'snow', '#893843': 'solid pink', '#757575': 'sonic silver', '#1d2951': 'space cadet', '#807532': 'spanish bistre', '#0070b8': 'spanish blue', '#d10047': 'spanish carmine', '#989898': 'spanish gray', '#009150': 'spanish green', '#e86100': 'spanish orange', '#f7bfbe': 'spanish pink', '#e60026': 'spanish red', '#4c2882': 'spanish violet', '#007f5c': 'spanish viridian', '#a7fc00': 'spring bud', '#87ff2a': 'spring frost', '#00ff7f': 'spring green', '#007bb8': 'star command blue', '#4682b4': 'steel blue', '#cc33cc': 'steel pink', '#5f8a8b': 'steel teal', '#e4d96f': 'straw', '#914e75': 'sugar plum', '#ffcc33': 'sunglow', '#e3ab57': 'sunray', '#cf6ba9': 'super pink', '#a83731': 'sweet brown', '#d2b48c': 'tan', '#d99a6c': 'tan (crayola)', '#f28500': 'tangerine', '#fb4d46': 'tart orange', '#8b8589': 'taupe gray', '#d0f0c0': 'tea green', '#008080': 'teal', '#367588': 'teal blue', '#cf3476': 'telemagenta', '#cd5700': 'tenné (tawny)', '#e2725b': 'terra cotta', '#d8bfd8': 'thistle', '#fc89ac': 'tickle me pink', '#0abab5': 'tiffany blue', '#dbd7d2': 'timberwolf', '#eee600': 'titanium yellow', '#ff6347': 'tomato', '#00755e': 'tropical rain forest', '#2d68c4': 'true blue', '#1c05b3': 'trypan blue', '#3e8ede': 'tufts blue', '#deaa88': 'tumbleweed', '#40e0d0': 'turquoise', '#00ffef': 'turquoise blue', '#a0d6b4': 'turquoise green', '#7c4848': 'tuscan red', '#c09999': 'tuscany', '#8a496b': 'twilight lavender', '#66023c': 'tyrian purple', '#0033aa': 'ua blue', '#d9004c': 'ua red', '#3f00ff': 'ultramarine', '#4166f5': 'ultramarine blue', '#fc6c85': 'wild watermelon', '#635147': 'umber', '#ffddca': 'unbleached silk', '#5b92e5': 'united nations blue', '#7b1113': 'up maroon', '#ae2029': 'upsdell red', '#afdbf5': 'uranian blue', '#004f98': 'usafa blue', '#664228': 'van dyke brown', '#f38fa9': 'vanilla ice', '#c5b358': 'vegas gold', '#c80815': 'venetian red', '#43b3ae': 'verdigris', '#d9381e': 'vermilion', '#7f00ff': 'violet (color wheel)', '#963d7f': 'violet (crayola)', '#8601af': 'violet (ryb)', '#ee82ee': 'violet (web)', '#324ab2': 'violet-blue', '#766ec8': 'violet-blue (crayola)', '#f75394': 'violet-red', '#40826d': 'viridian', '#009698': 'viridian green', '#9f1d35': 'vivid burgundy', '#00ccff': 'vivid sky blue', '#ffa089': 'vivid tangerine', '#9f00ff': 'vivid violet', '#ceff00': 'volt', '#004242': 'warm black', '#f5deb3': 'wheat', '#a2add0': 'wild blue yonder', '#d470a2': 'wild orchid', '#ff43a4': 'wild strawberry', '#a75502': 'windsor tan', '#722f37': 'wine', '#ff007c': 'winter sky', '#56887d': 'wintergreen dream', '#c9a0dc': 'wisteria', '#eeed09': 'xanthic', '#738678': 'xanadu', '#0c020f': 'xiketic', '#0f4d92': 'yale blue', '#fce883': 'yellow (crayola)', '#efcc00': 'yellow (munsell)', '#fedf00': 'yellow (pantone)', '#fefe33': 'yellow (ryb)', '#9acd32': 'yellow-green', '#c5e384': 'yellow-green (crayola)', '#30b21a': 'yellow-green (color wheel)', '#ffae42': 'yellow orange', '#ff9505': 'yellow orange (color wheel)', '#2e5090': 'yinmn blue', '#0014a8': 'zaffre', '#39a78e': 'zomp'}\n"
     ]
    }
   ],
   "source": [
    "mydict = {}\n",
    "\n",
    "with open('data.csv', mode='r') as inp:\n",
    "    reader = csv.reader(inp)\n",
    "    dict_from_csv = {rows[0]:rows[1] for rows in reader}\n",
    "\n",
    "print(dict_from_csv)"
   ]
  },
  {
   "cell_type": "code",
   "execution_count": null,
   "id": "631cfa9c",
   "metadata": {},
   "outputs": [],
   "source": []
  }
 ],
 "metadata": {
  "kernelspec": {
   "display_name": "Python 3.9.6 64-bit ('base': conda)",
   "language": "python",
   "name": "python396jvsc74a57bd095ec9ec1504d83f612128e0fb229072f90bbb4cb09d9d5d93b5dd26e0ca2cfd1"
  },
  "language_info": {
   "codemirror_mode": {
    "name": "ipython",
    "version": 3
   },
   "file_extension": ".py",
   "mimetype": "text/x-python",
   "name": "python",
   "nbconvert_exporter": "python",
   "pygments_lexer": "ipython3",
   "version": "3.9.6"
  }
 },
 "nbformat": 4,
 "nbformat_minor": 5
}
