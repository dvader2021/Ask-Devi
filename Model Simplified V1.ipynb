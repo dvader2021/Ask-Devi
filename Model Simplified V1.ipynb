{
 "cells": [
  {
   "cell_type": "code",
   "execution_count": 1,
   "id": "c567c7a1",
   "metadata": {},
   "outputs": [],
   "source": [
    "import pandas as pd\n",
    "from sklearn.feature_extraction.text import TfidfVectorizer\n",
    "from sklearn.feature_extraction.text import ENGLISH_STOP_WORDS \n",
    "from sklearn.metrics.pairwise import cosine_similarity,linear_kernel"
   ]
  },
  {
   "cell_type": "code",
   "execution_count": 2,
   "id": "ec168141",
   "metadata": {},
   "outputs": [],
   "source": [
    "DEBUG_MODE=\"N\""
   ]
  },
  {
   "cell_type": "code",
   "execution_count": 28,
   "id": "52bca59b",
   "metadata": {},
   "outputs": [],
   "source": [
    "# final simplified version \n",
    "# Oct 2021\n",
    "\n",
    "# here let us get user input\n",
    "color_choice = \"Red\"\n",
    "fabric_choice = \"Silk\"\n",
    "pattern_choice = \"Solid\"\n",
    "number_of_recommendations=5\n"
   ]
  },
  {
   "cell_type": "code",
   "execution_count": 29,
   "id": "51cca544",
   "metadata": {},
   "outputs": [
    {
     "name": "stdout",
     "output_type": "stream",
     "text": [
      "['Red Green Gold Silver Blue White Green Gold Red silk Plain Floral Geometric Sequins Embroidered Zari Gotta work Mirror']\n"
     ]
    }
   ],
   "source": [
    "result = getRecommendation(color_choice, fabric_choice, pattern_choice, number_of_recommendations)\n",
    "\n",
    "# what if I have duplicates.. delete them\n",
    "# sorting by first name\n",
    "result.sort_values(\"id\", inplace = True)\n",
    " \n",
    "# dropping ALL duplicate values\n",
    "result.drop_duplicates(subset =\"id\", keep = False, inplace = True)"
   ]
  },
  {
   "cell_type": "code",
   "execution_count": 30,
   "id": "4812244f",
   "metadata": {},
   "outputs": [
    {
     "name": "stdout",
     "output_type": "stream",
     "text": [
      "148 Red with Red and Zari brocade on silk\n"
     ]
    },
    {
     "data": {
      "text/html": [
       "<img src=\"./images/askdevi_filename_26.jpg\" width=\"300\" class=\"unconfined\"/>"
      ],
      "text/plain": [
       "<IPython.core.display.Image object>"
      ]
     },
     "metadata": {},
     "output_type": "display_data"
    },
    {
     "name": "stdout",
     "output_type": "stream",
     "text": [
      "163 Midnight Blue with white and pink bhandhni and gold flower embroidery on silk\n"
     ]
    },
    {
     "data": {
      "text/html": [
       "<img src=\"./images/askdevi_filename_33.jpg\" width=\"300\" class=\"unconfined\"/>"
      ],
      "text/plain": [
       "<IPython.core.display.Image object>"
      ]
     },
     "metadata": {},
     "output_type": "display_data"
    },
    {
     "name": "stdout",
     "output_type": "stream",
     "text": [
      "165 Navy blue with white and pink bandhani and gold long motif embroidery on silk\n"
     ]
    },
    {
     "data": {
      "text/html": [
       "<img src=\"./images/askdevi_filename_34.jpg\" width=\"300\" class=\"unconfined\"/>"
      ],
      "text/plain": [
       "<IPython.core.display.Image object>"
      ]
     },
     "metadata": {},
     "output_type": "display_data"
    },
    {
     "name": "stdout",
     "output_type": "stream",
     "text": [
      "214 Fuchia pink with all over gold, purple, green and red motif brocade silk\n"
     ]
    },
    {
     "data": {
      "text/html": [
       "<img src=\"./images/askdevi_filename_46.jpg\" width=\"300\" class=\"unconfined\"/>"
      ],
      "text/plain": [
       "<IPython.core.display.Image object>"
      ]
     },
     "metadata": {},
     "output_type": "display_data"
    },
    {
     "name": "stdout",
     "output_type": "stream",
     "text": [
      "222 Teal blue with a gold and green wreath motif brocade on silk\n"
     ]
    },
    {
     "data": {
      "text/html": [
       "<img src=\"./images/askdevi_filename_49.jpg\" width=\"300\" class=\"unconfined\"/>"
      ],
      "text/plain": [
       "<IPython.core.display.Image object>"
      ]
     },
     "metadata": {},
     "output_type": "display_data"
    }
   ],
   "source": [
    "# print results\n",
    "#result\n",
    "\n",
    "# return data as json for the lambda function\n",
    "#json = result.to_json(orient ='records')\n",
    "#print(json)\n",
    "\n",
    "# show image\n",
    "from IPython.core.display import Image, display\n",
    "\n",
    "for ind in result.index:\n",
    "     print(result['id'][ind], result['desc'][ind])\n",
    "     img_to_display = result['img_url'][ind]\n",
    "     display(Image(url=img_to_display, width=300, unconfined=True))"
   ]
  },
  {
   "cell_type": "code",
   "execution_count": 10,
   "id": "9e82f877",
   "metadata": {},
   "outputs": [],
   "source": [
    "if DEBUG_MODE==True:\n",
    "    print(\"Vocabulary size: {}\".format(len(vect.vocabulary_))) \n",
    "    print(\"Vocabulary content:\\n {}\".format(vect.vocabulary_))\n",
    "    print(\"User Vocabulary size: {}\".format(len(user_vect.vocabulary_))) \n",
    "    print(\"User Vocabulary content:\\n {}\".format(user_vect.vocabulary_))\n",
    "    print(scores)"
   ]
  },
  {
   "cell_type": "code",
   "execution_count": 23,
   "id": "71a55e49",
   "metadata": {},
   "outputs": [],
   "source": [
    "def getRecommendation(color_choice, fabric_choice, pattern_choice, number_of_recommendations=2):\n",
    "    # begin model\n",
    "\n",
    "    user_choice = []\n",
    "    \n",
    "    \n",
    "    comp_color = getComplimentaryColor(color_choice)\n",
    "    contrast_color = getContrastColor(color_choice)\n",
    "    mono_color = getMonoChromaticColor(color_choice)\n",
    "    fabric_type = getFabricType(fabric_choice)\n",
    "    pattern_type = getPatternType(pattern_choice)\n",
    "    \n",
    "    user_choice.append(color_choice  + \" \" + comp_color + \" \"  + contrast_color + \" \" + mono_color + \" \" + fabric_type + \" \" + pattern_type) \n",
    "    #user_choice.append( \" \" + comp_color) \n",
    "    print(user_choice)\n",
    "    \n",
    "    # read data file\n",
    "    df=pd.read_csv('./data/updated_saree_data_v2.csv')\n",
    "\n",
    "    # create model\n",
    "    # vectorize the data\n",
    "    vect = TfidfVectorizer(min_df=2, ngram_range=(1,2),stop_words='english')\n",
    "    vect.fit(df['desc'])\n",
    "    org = vect.transform(df['desc'])\n",
    "\n",
    "    # do the same magic to the user words\n",
    "    user_vect = TfidfVectorizer(ngram_range=(1,2),stop_words='english')\n",
    "    user_vect.fit(user_choice)\n",
    "    user = vect.transform(user_choice)\n",
    "\n",
    "    # perform similarity test\n",
    "    # perform co-sine similarilty\n",
    "    cos_sim = map(lambda x: cosine_similarity(user, x), org)\n",
    "    #cos_sim = map(lambda x: linear_kernel(user, x), org)\n",
    "    scores = list(cos_sim)\n",
    "\n",
    "    # get recommendations\n",
    "    top = sorted(range(len(scores)), key=lambda i: scores[i], reverse=True)[:number_of_recommendations]\n",
    "\n",
    "    # create a result data frame\n",
    "    recommendation = pd.DataFrame(columns = ['id', 'desc', 'score','img_url'], dtype=object)\n",
    "\n",
    "    count = 0\n",
    "    for i in top:\n",
    "        recommendation.at[count, 'id'] = df['id'][i]\n",
    "        recommendation.at[count, 'img_url'] = df['img_url'][i]\n",
    "        recommendation.at[count, 'desc'] = df['desc'][i]\n",
    "        recommendation.at[count, 'score'] = \"{:.3f}\".format(float(scores[i])) #error here?\n",
    "        count += 1\n",
    "    \n",
    "    return recommendation"
   ]
  },
  {
   "cell_type": "code",
   "execution_count": 24,
   "id": "97204aea",
   "metadata": {},
   "outputs": [],
   "source": [
    "def getComplimentaryColor(color_name):\n",
    "    color_name = color_name.lower()\n",
    "    if color_name == \"red\":\n",
    "        comp = 'Green Gold Silver Blue'\n",
    "    elif color_name == \"yellow\":\n",
    "        comp = 'Violet'\n",
    "    elif color_name == \"blue\":\n",
    "        comp = 'Orange'\n",
    "    elif color_name == \"green\":\n",
    "        comp = 'Red Yellow Blue'\n",
    "    elif color_name == \"orange\":\n",
    "        comp = 'Red Yellow Blue'\n",
    "    elif color_name == \"violet\":\n",
    "        comp = 'Yellow Orange Green'\n",
    "    elif color_name == \"pink\":\n",
    "        comp = 'Yellow Green'\n",
    "    elif color_name == \"white\":\n",
    "        comp = 'Black Red Blue'\n",
    "    elif color_name == \"black\":\n",
    "        comp = 'White Red'\n",
    "    elif color_name == \"gray\":\n",
    "        comp = 'Red White Black'\n",
    "    else:\n",
    "        comp = 'White'\n",
    "    \n",
    "    return comp\n",
    "\n",
    "def getContrastColor(color_name):\n",
    "    color_name = color_name.lower()\n",
    "    if color_name == \"red\":\n",
    "        comp = 'White Green Gold'\n",
    "    elif color_name == \"yellow\":\n",
    "        comp = 'Red Blue Green'\n",
    "    elif color_name == \"blue\":\n",
    "        comp = 'Orange Pink White Silver'\n",
    "    elif color_name == \"green\":\n",
    "        comp = 'Red Silver Gold White'\n",
    "    elif color_name == \"orange\":\n",
    "        comp = 'Blue Yellow Purple Pink'\n",
    "    elif color_name == \"violet\":\n",
    "        comp = 'White Pink Red'\n",
    "    elif color_name == \"pink\":\n",
    "        comp = 'Red White Blue Gray'\n",
    "    elif color_name == \"white\":\n",
    "        comp = 'Red Gray Black Pink Blue Green Yellow Silver'\n",
    "    elif color_name == \"black\":\n",
    "        comp = 'White Gold Red Yellow'\n",
    "    elif color_name == \"gray\":\n",
    "        comp = 'Silver White Black Pink Yellow Blue'\n",
    "    else:\n",
    "        comp = 'White'\n",
    "    \n",
    "    return comp\n",
    "\n",
    "def getMonoChromaticColor(color_name):\n",
    "    return color_name\n",
    "\n",
    "\n",
    "\n",
    "def getFabricType(fabric_choice):\n",
    "    # Silk\n",
    "    #Cotton\n",
    "    #Linen\n",
    "    #Satin\n",
    "    #Georgette\n",
    "\n",
    "    return \"silk\"\n",
    "\n",
    "def getPatternType(pattern_choice):\n",
    "    pattern_choice = pattern_choice.lower()\n",
    "    if pattern_choice == \"solid\":\n",
    "        p_choice=\"Plain Floral Geometric Sequins Embroidered Zari Gotta work Mirror\"\n",
    "\n",
    "    else:\n",
    "        p_choice = \"Solid\"\n",
    "        \n",
    "    return p_choice"
   ]
  },
  {
   "cell_type": "code",
   "execution_count": null,
   "id": "be3f687b",
   "metadata": {},
   "outputs": [],
   "source": []
  }
 ],
 "metadata": {
  "kernelspec": {
   "display_name": "Python 3.9.6 64-bit ('base': conda)",
   "language": "python",
   "name": "python396jvsc74a57bd095ec9ec1504d83f612128e0fb229072f90bbb4cb09d9d5d93b5dd26e0ca2cfd1"
  },
  "language_info": {
   "codemirror_mode": {
    "name": "ipython",
    "version": 3
   },
   "file_extension": ".py",
   "mimetype": "text/x-python",
   "name": "python",
   "nbconvert_exporter": "python",
   "pygments_lexer": "ipython3",
   "version": "3.9.6"
  }
 },
 "nbformat": 4,
 "nbformat_minor": 5
}
